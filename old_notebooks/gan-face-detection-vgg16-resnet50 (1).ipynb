{
 "cells": [
  {
   "cell_type": "code",
   "execution_count": 1,
   "metadata": {
    "_cell_guid": "b1076dfc-b9ad-4769-8c92-a6c4dae69d19",
    "_uuid": "8f2839f25d086af736a60e9eeb907d3b93b6e0e5",
    "execution": {
     "iopub.execute_input": "2025-02-13T08:21:03.065641Z",
     "iopub.status.busy": "2025-02-13T08:21:03.065334Z",
     "iopub.status.idle": "2025-02-13T08:21:15.607162Z",
     "shell.execute_reply": "2025-02-13T08:21:15.606190Z",
     "shell.execute_reply.started": "2025-02-13T08:21:03.065604Z"
    },
    "trusted": true
   },
   "outputs": [],
   "source": [
    "import os\n",
    "import numpy as np\n",
    "import pandas as pd\n",
    "import tensorflow\n",
    "from tensorflow.keras.preprocessing import image\n",
    "from tensorflow.keras.preprocessing.image import ImageDataGenerator\n",
    "from tensorflow.keras.models import Sequential\n",
    "from tensorflow.keras.layers import Conv2D, MaxPooling2D, Flatten, Dense, Dropout, GlobalAveragePooling2D\n",
    "from tensorflow.keras.optimizers import Adam\n",
    "from tensorflow.keras.callbacks import ReduceLROnPlateau, EarlyStopping\n",
    "from sklearn.metrics import classification_report\n",
    "from sklearn.metrics import confusion_matrix, ConfusionMatrixDisplay\n",
    "from tensorflow.keras.applications import DenseNet121, ResNet50 ,VGG16\n",
    "from tensorflow.keras.models import Model\n",
    "import warnings\n",
    "warnings.filterwarnings('ignore')"
   ]
  },
  {
   "cell_type": "code",
   "execution_count": null,
   "metadata": {
    "execution": {
     "iopub.execute_input": "2025-02-13T08:21:15.610439Z",
     "iopub.status.busy": "2025-02-13T08:21:15.609545Z",
     "iopub.status.idle": "2025-02-13T08:21:15.614334Z",
     "shell.execute_reply": "2025-02-13T08:21:15.613323Z",
     "shell.execute_reply.started": "2025-02-13T08:21:15.610397Z"
    },
    "trusted": true
   },
   "outputs": [],
   "source": [
    "root = '/kaggle/input/140k-real-and-fake-faces'\n",
    "\n",
    "train_dir = '/kaggle/input/140k-real-and-fake-faces/real_vs_fake/real-vs-fake/train'\n",
    "val_dir = '/kaggle/input/140k-real-and-fake-faces/real_vs_fake/real-vs-fake/valid'\n",
    "test_dir = '/kaggle/input/140k-real-and-fake-faces/real_vs_fake/real-vs-fake/test'"
   ]
  },
  {
   "cell_type": "code",
   "execution_count": 3,
   "metadata": {
    "execution": {
     "iopub.execute_input": "2025-02-13T08:21:15.615914Z",
     "iopub.status.busy": "2025-02-13T08:21:15.615536Z",
     "iopub.status.idle": "2025-02-13T08:21:15.656432Z",
     "shell.execute_reply": "2025-02-13T08:21:15.655583Z",
     "shell.execute_reply.started": "2025-02-13T08:21:15.615870Z"
    },
    "trusted": true
   },
   "outputs": [
    {
     "name": "stdout",
     "output_type": "stream",
     "text": [
      "Train_dir Subfolders:  ['fake', 'real']\n",
      "Valid_dir Subfolders:  ['fake', 'real']\n",
      "Test_dir Subfolders:  ['fake', 'real']\n"
     ]
    }
   ],
   "source": [
    "print(\"Train_dir Subfolders: \", os.listdir(train_dir))\n",
    "print(\"Valid_dir Subfolders: \", os.listdir(val_dir))\n",
    "print(\"Test_dir Subfolders: \", os.listdir(test_dir))"
   ]
  },
  {
   "cell_type": "code",
   "execution_count": 4,
   "metadata": {
    "execution": {
     "iopub.execute_input": "2025-02-13T08:21:15.657720Z",
     "iopub.status.busy": "2025-02-13T08:21:15.657437Z",
     "iopub.status.idle": "2025-02-13T08:22:28.764368Z",
     "shell.execute_reply": "2025-02-13T08:22:28.763482Z",
     "shell.execute_reply.started": "2025-02-13T08:21:15.657694Z"
    },
    "trusted": true
   },
   "outputs": [
    {
     "name": "stdout",
     "output_type": "stream",
     "text": [
      "Found 100000 images belonging to 2 classes.\n",
      "Found 20000 images belonging to 2 classes.\n",
      "Found 20000 images belonging to 2 classes.\n"
     ]
    }
   ],
   "source": [
    "train_datagen = ImageDataGenerator(rescale=1./255)\n",
    "val_test_datagen = ImageDataGenerator(rescale=1./255)\n",
    "target_size = (256,256)\n",
    "batch_size = 32  # Update this according to your batch size\n",
    "\n",
    "# Load data from directories\n",
    "train_generator = train_datagen.flow_from_directory(\n",
    "    train_dir,\n",
    "    target_size=target_size,\n",
    "    batch_size=batch_size,\n",
    "    class_mode='binary'\n",
    ")\n",
    "\n",
    "val_generator = val_test_datagen.flow_from_directory(\n",
    "    val_dir,\n",
    "    target_size=target_size,\n",
    "    batch_size=batch_size,\n",
    "    class_mode='binary'\n",
    ")\n",
    "\n",
    "\n",
    "test_generator = val_test_datagen.flow_from_directory(\n",
    "    test_dir,\n",
    "    target_size=target_size,\n",
    "    batch_size=batch_size,\n",
    "    class_mode='binary',\n",
    "    shuffle=False  # Ensure test data is not shuffled\n",
    ")"
   ]
  },
  {
   "cell_type": "code",
   "execution_count": 5,
   "metadata": {
    "execution": {
     "iopub.execute_input": "2025-02-13T08:22:28.766394Z",
     "iopub.status.busy": "2025-02-13T08:22:28.765698Z",
     "iopub.status.idle": "2025-02-13T08:22:28.771010Z",
     "shell.execute_reply": "2025-02-13T08:22:28.770194Z",
     "shell.execute_reply.started": "2025-02-13T08:22:28.766352Z"
    },
    "trusted": true
   },
   "outputs": [
    {
     "name": "stdout",
     "output_type": "stream",
     "text": [
      "Training class distribution: {'fake': 0, 'real': 1}\n",
      "Validation class distribution: {'fake': 0, 'real': 1}\n"
     ]
    }
   ],
   "source": [
    "# Verify class distribution\n",
    "print(\"Training class distribution:\", train_generator.class_indices)\n",
    "print(\"Validation class distribution:\", val_generator.class_indices)"
   ]
  },
  {
   "cell_type": "code",
   "execution_count": 6,
   "metadata": {
    "execution": {
     "iopub.execute_input": "2025-02-13T08:22:28.772262Z",
     "iopub.status.busy": "2025-02-13T08:22:28.771973Z",
     "iopub.status.idle": "2025-02-13T08:22:31.392260Z",
     "shell.execute_reply": "2025-02-13T08:22:31.391540Z",
     "shell.execute_reply.started": "2025-02-13T08:22:28.772225Z"
    },
    "trusted": true
   },
   "outputs": [
    {
     "name": "stdout",
     "output_type": "stream",
     "text": [
      "Downloading data from https://storage.googleapis.com/tensorflow/keras-applications/resnet/resnet50_weights_tf_dim_ordering_tf_kernels_notop.h5\n",
      "\u001b[1m94765736/94765736\u001b[0m \u001b[32m━━━━━━━━━━━━━━━━━━━━\u001b[0m\u001b[37m\u001b[0m \u001b[1m0s\u001b[0m 0us/step\n"
     ]
    }
   ],
   "source": [
    "base_model = ResNet50(weights='imagenet', include_top=False, input_shape=(256, 256, 3))"
   ]
  },
  {
   "cell_type": "code",
   "execution_count": 7,
   "metadata": {
    "execution": {
     "iopub.execute_input": "2025-02-13T08:22:31.396099Z",
     "iopub.status.busy": "2025-02-13T08:22:31.395803Z",
     "iopub.status.idle": "2025-02-13T08:22:31.445693Z",
     "shell.execute_reply": "2025-02-13T08:22:31.445109Z",
     "shell.execute_reply.started": "2025-02-13T08:22:31.396073Z"
    },
    "trusted": true
   },
   "outputs": [],
   "source": [
    "x = base_model.output\n",
    "x = GlobalAveragePooling2D()(x)\n",
    "x = Dense(1024,activation='relu')(x)\n",
    "x = Dropout(0.5)(x)  # Add Dropout here\n",
    "predictions = Dense(1,activation='sigmoid')(x)\n",
    "\n",
    "model = Model(inputs=base_model.input,outputs=predictions)\n",
    "for layer in base_model.layers[:100]:\n",
    "    layer.trainable = False\n",
    "for layer in base_model.layers[100:]:\n",
    "    layer.trainable=True\n",
    "    \n",
    "model.compile(optimizer=Adam(learning_rate=1e-5),  # Fine-tuning usually requires a lower learning rate\n",
    "              loss='binary_crossentropy',\n",
    "              metrics=['accuracy'])"
   ]
  },
  {
   "cell_type": "code",
   "execution_count": 8,
   "metadata": {
    "execution": {
     "iopub.execute_input": "2025-02-13T08:22:31.447416Z",
     "iopub.status.busy": "2025-02-13T08:22:31.447050Z",
     "iopub.status.idle": "2025-02-13T08:22:31.486337Z",
     "shell.execute_reply": "2025-02-13T08:22:31.485723Z",
     "shell.execute_reply.started": "2025-02-13T08:22:31.447378Z"
    },
    "trusted": true
   },
   "outputs": [],
   "source": [
    "x = base_model.output\n",
    "x = GlobalAveragePooling2D()(x)\n",
    "x = Dense(1024,activation='relu')(x)\n",
    "x = Dropout(0.5)(x)  # Add Dropout here\n",
    "predictions = Dense(1,activation='sigmoid')(x)\n",
    "\n",
    "model = Model(inputs=base_model.input,outputs=predictions)\n",
    "for layer in base_model.layers[:100]:\n",
    "    layer.trainable = False\n",
    "for layer in base_model.layers[100:]:\n",
    "    layer.trainable=True\n",
    "    \n",
    "model.compile(optimizer=Adam(learning_rate=1e-5),  # Fine-tuning usually requires a lower learning rate\n",
    "              loss='binary_crossentropy',\n",
    "              metrics=['accuracy'])"
   ]
  },
  {
   "cell_type": "code",
   "execution_count": 9,
   "metadata": {
    "execution": {
     "iopub.execute_input": "2025-02-13T08:22:31.487464Z",
     "iopub.status.busy": "2025-02-13T08:22:31.487235Z",
     "iopub.status.idle": "2025-02-13T09:09:21.468577Z",
     "shell.execute_reply": "2025-02-13T09:09:21.467762Z",
     "shell.execute_reply.started": "2025-02-13T08:22:31.487441Z"
    },
    "trusted": true
   },
   "outputs": [
    {
     "name": "stdout",
     "output_type": "stream",
     "text": [
      "Epoch 1/4\n"
     ]
    },
    {
     "name": "stderr",
     "output_type": "stream",
     "text": [
      "WARNING: All log messages before absl::InitializeLog() is called are written to STDERR\n",
      "I0000 00:00:1739434968.037290     125 service.cc:145] XLA service 0x78c91c002620 initialized for platform CUDA (this does not guarantee that XLA will be used). Devices:\n",
      "I0000 00:00:1739434968.037349     125 service.cc:153]   StreamExecutor device (0): Tesla T4, Compute Capability 7.5\n",
      "I0000 00:00:1739434968.037353     125 service.cc:153]   StreamExecutor device (1): Tesla T4, Compute Capability 7.5\n",
      "I0000 00:00:1739434983.759264     125 device_compiler.h:188] Compiled cluster using XLA!  This line is logged at most once for the lifetime of the process.\n"
     ]
    },
    {
     "name": "stdout",
     "output_type": "stream",
     "text": [
      "\u001b[1m3125/3125\u001b[0m \u001b[32m━━━━━━━━━━━━━━━━━━━━\u001b[0m\u001b[37m\u001b[0m \u001b[1m765s\u001b[0m 235ms/step - accuracy: 0.6855 - loss: 0.5829 - val_accuracy: 0.8059 - val_loss: 0.4229\n",
      "Epoch 2/4\n",
      "\u001b[1m3125/3125\u001b[0m \u001b[32m━━━━━━━━━━━━━━━━━━━━\u001b[0m\u001b[37m\u001b[0m \u001b[1m682s\u001b[0m 218ms/step - accuracy: 0.8108 - loss: 0.4111 - val_accuracy: 0.7479 - val_loss: 0.5197\n",
      "Epoch 3/4\n",
      "\u001b[1m3125/3125\u001b[0m \u001b[32m━━━━━━━━━━━━━━━━━━━━\u001b[0m\u001b[37m\u001b[0m \u001b[1m682s\u001b[0m 218ms/step - accuracy: 0.8496 - loss: 0.3413 - val_accuracy: 0.8111 - val_loss: 0.4089\n",
      "Epoch 4/4\n",
      "\u001b[1m3125/3125\u001b[0m \u001b[32m━━━━━━━━━━━━━━━━━━━━\u001b[0m\u001b[37m\u001b[0m \u001b[1m681s\u001b[0m 218ms/step - accuracy: 0.8823 - loss: 0.2816 - val_accuracy: 0.8288 - val_loss: 0.3926\n"
     ]
    }
   ],
   "source": [
    "history = model.fit(\n",
    "    train_generator,\n",
    "    validation_data=val_generator,\n",
    "    epochs=2,\n",
    "    \n",
    ")"
   ]
  },
  {
   "cell_type": "code",
   "execution_count": 10,
   "metadata": {
    "execution": {
     "iopub.execute_input": "2025-02-13T09:09:21.471390Z",
     "iopub.status.busy": "2025-02-13T09:09:21.469977Z",
     "iopub.status.idle": "2025-02-13T09:12:30.416232Z",
     "shell.execute_reply": "2025-02-13T09:12:30.415376Z",
     "shell.execute_reply.started": "2025-02-13T09:09:21.471359Z"
    },
    "trusted": true
   },
   "outputs": [
    {
     "name": "stdout",
     "output_type": "stream",
     "text": [
      "\u001b[1m625/625\u001b[0m \u001b[32m━━━━━━━━━━━━━━━━━━━━\u001b[0m\u001b[37m\u001b[0m \u001b[1m188s\u001b[0m 301ms/step - accuracy: 0.9139 - loss: 0.2051\n",
      "Test metrics: 0.8274999856948853\n"
     ]
    }
   ],
   "source": [
    "test_metrics = model.evaluate(test_generator)\n",
    "print(\"Test metrics:\", test_metrics[1])"
   ]
  },
  {
   "cell_type": "code",
   "execution_count": 11,
   "metadata": {
    "execution": {
     "iopub.execute_input": "2025-02-13T09:12:30.417682Z",
     "iopub.status.busy": "2025-02-13T09:12:30.417410Z",
     "iopub.status.idle": "2025-02-13T09:12:30.727401Z",
     "shell.execute_reply": "2025-02-13T09:12:30.726608Z",
     "shell.execute_reply.started": "2025-02-13T09:12:30.417656Z"
    },
    "trusted": true
   },
   "outputs": [
    {
     "data": {
      "image/png": "[encoded data removed]",
      "text/plain": [
       "<Figure size 1200x600 with 1 Axes>"
      ]
     },
     "metadata": {},
     "output_type": "display_data"
    }
   ],
   "source": [
    "import matplotlib.pyplot as plt\n",
    "# Plot training & validation accuracy values\n",
    "plt.figure(figsize=(12, 6))\n",
    "plt.plot(history.history['accuracy'], label='Training Accuracy')\n",
    "plt.plot(history.history['val_accuracy'], label='Validation Accuracy')\n",
    "plt.title('Model Accuracy')\n",
    "plt.xlabel('Epoch')\n",
    "plt.ylabel('Accuracy')\n",
    "plt.legend(loc='lower right')\n",
    "plt.grid(True)\n",
    "plt.show()"
   ]
  },
  {
   "cell_type": "code",
   "execution_count": 12,
   "metadata": {
    "execution": {
     "iopub.execute_input": "2025-02-13T09:12:30.729268Z",
     "iopub.status.busy": "2025-02-13T09:12:30.728580Z",
     "iopub.status.idle": "2025-02-13T09:12:30.990411Z",
     "shell.execute_reply": "2025-02-13T09:12:30.989612Z",
     "shell.execute_reply.started": "2025-02-13T09:12:30.729227Z"
    },
    "trusted": true
   },
   "outputs": [
    {
     "data": {
      "image/png": "[encoded data removed]",
      "text/plain": [
       "<Figure size 1200x600 with 1 Axes>"
      ]
     },
     "metadata": {},
     "output_type": "display_data"
    }
   ],
   "source": [
    "# Plot training & validation loss values\n",
    "plt.figure(figsize=(12, 6))\n",
    "plt.plot(history.history['loss'], label='Training Loss')\n",
    "plt.plot(history.history['val_loss'], label='Validation Loss')\n",
    "plt.title('Model Loss')\n",
    "plt.xlabel('Epoch')\n",
    "plt.ylabel('Loss')\n",
    "plt.legend(loc='upper right')\n",
    "plt.grid(True)\n",
    "plt.show()"
   ]
  },
  {
   "cell_type": "code",
   "execution_count": 13,
   "metadata": {
    "execution": {
     "iopub.execute_input": "2025-02-13T09:12:30.991961Z",
     "iopub.status.busy": "2025-02-13T09:12:30.991614Z",
     "iopub.status.idle": "2025-02-13T09:13:57.503098Z",
     "shell.execute_reply": "2025-02-13T09:13:57.502230Z",
     "shell.execute_reply.started": "2025-02-13T09:12:30.991924Z"
    },
    "trusted": true
   },
   "outputs": [
    {
     "name": "stdout",
     "output_type": "stream",
     "text": [
      "\u001b[1m625/625\u001b[0m \u001b[32m━━━━━━━━━━━━━━━━━━━━\u001b[0m\u001b[37m\u001b[0m \u001b[1m86s\u001b[0m 132ms/step\n",
      "              precision    recall  f1-score   support\n",
      "\n",
      "        fake       0.76      0.96      0.85     10000\n",
      "        real       0.94      0.70      0.80     10000\n",
      "\n",
      "    accuracy                           0.83     20000\n",
      "   macro avg       0.85      0.83      0.82     20000\n",
      "weighted avg       0.85      0.83      0.82     20000\n",
      "\n"
     ]
    }
   ],
   "source": [
    "# Generate predictions on the test set\n",
    "test_generator.reset()\n",
    "predictions = model.predict(test_generator, verbose=1)\n",
    "\n",
    "# The model output is the probability of the image being real\n",
    "# Convert probabilities to percentage\n",
    "predicted_percentages = predictions * 100\n",
    "\n",
    "# Convert to predicted classes with a threshold of 50%\n",
    "predicted_classes = np.where(predicted_percentages > 50, 1, 0)\n",
    "\n",
    "# Get true labels\n",
    "true_classes = test_generator.classes\n",
    "class_labels = list(test_generator.class_indices.keys())\n",
    "\n",
    "# Print the classification report\n",
    "print(classification_report(true_classes, predicted_classes, target_names=class_labels))"
   ]
  },
  {
   "cell_type": "code",
   "execution_count": 14,
   "metadata": {
    "execution": {
     "iopub.execute_input": "2025-02-13T09:13:57.504596Z",
     "iopub.status.busy": "2025-02-13T09:13:57.504237Z",
     "iopub.status.idle": "2025-02-13T09:13:57.771723Z",
     "shell.execute_reply": "2025-02-13T09:13:57.770840Z",
     "shell.execute_reply.started": "2025-02-13T09:13:57.504555Z"
    },
    "trusted": true
   },
   "outputs": [
    {
     "data": {
      "image/png": "[encoded data removed]",
      "text/plain": [
       "<Figure size 640x480 with 2 Axes>"
      ]
     },
     "metadata": {},
     "output_type": "display_data"
    }
   ],
   "source": [
    "# 3. Generate the confusion matrix\n",
    "cm = confusion_matrix(true_classes, predicted_classes)\n",
    "\n",
    "# 4. Plot the confusion matrix\n",
    "disp = ConfusionMatrixDisplay(confusion_matrix=cm, display_labels=test_generator.class_indices.keys())\n",
    "disp.plot(cmap=plt.cm.Blues)\n",
    "plt.title('Confusion Matrix')\n",
    "plt.show()"
   ]
  },
  {
   "cell_type": "code",
   "execution_count": 3,
   "metadata": {
    "execution": {
     "iopub.execute_input": "2025-02-13T09:43:00.986237Z",
     "iopub.status.busy": "2025-02-13T09:43:00.985282Z",
     "iopub.status.idle": "2025-02-13T09:43:10.020562Z",
     "shell.execute_reply": "2025-02-13T09:43:10.019198Z",
     "shell.execute_reply.started": "2025-02-13T09:43:00.986199Z"
    },
    "trusted": true
   },
   "outputs": [
    {
     "ename": "NameError",
     "evalue": "name 'model' is not defined",
     "output_type": "error",
     "traceback": [
      "\u001b[0;31m---------------------------------------------------------------------------\u001b[0m",
      "\u001b[0;31mNameError\u001b[0m                                 Traceback (most recent call last)",
      "Cell \u001b[0;32mIn[3], line 29\u001b[0m\n\u001b[1;32m     26\u001b[0m img, img_array \u001b[38;5;241m=\u001b[39m load_and_preprocess_image(img_path, target_size)\n\u001b[1;32m     28\u001b[0m \u001b[38;5;66;03m# Make a prediction\u001b[39;00m\n\u001b[0;32m---> 29\u001b[0m prediction \u001b[38;5;241m=\u001b[39m \u001b[43mmodel\u001b[49m\u001b[38;5;241m.\u001b[39mpredict(img_array)\n\u001b[1;32m     31\u001b[0m \u001b[38;5;66;03m# Get the percentage for both classes\u001b[39;00m\n\u001b[1;32m     32\u001b[0m real_confidence \u001b[38;5;241m=\u001b[39m prediction[\u001b[38;5;241m0\u001b[39m][\u001b[38;5;241m0\u001b[39m] \u001b[38;5;241m*\u001b[39m \u001b[38;5;241m100\u001b[39m\n",
      "\u001b[0;31mNameError\u001b[0m: name 'model' is not defined"
     ]
    }
   ],
   "source": [
    "import matplotlib.pyplot as plt\n",
    "from tensorflow.keras.preprocessing import image\n",
    "import numpy as np\n",
    "\n",
    "# Function to load and preprocess the image\n",
    "def load_and_preprocess_image(img_path, target_size):\n",
    "    # Load image\n",
    "    img = image.load_img(img_path, target_size=target_size)\n",
    "    \n",
    "    # Convert image to array\n",
    "    img_array = image.img_to_array(img)\n",
    "    \n",
    "    # Rescale the image\n",
    "    img_array = img_array / 255.0\n",
    "    \n",
    "    # Expand dimensions to match the input shape\n",
    "    img_array = np.expand_dims(img_array, axis=0)\n",
    "    \n",
    "    return img, img_array\n",
    "\n",
    "# Provide the path to your image\n",
    "img_path = '/kaggle/input/140k-real-and-fake-faces/real_vs_fake/real-vs-fake/test/fake/0K8CFMRZZ5.jpg'\n",
    "target_size = (256, 256)  # Make sure this matches your model's input size\n",
    "\n",
    "# Load and preprocess the image\n",
    "img, img_array = load_and_preprocess_image(img_path, target_size)\n",
    "\n",
    "# Make a prediction\n",
    "prediction = model.predict(img_array)\n",
    "\n",
    "# Get the percentage for both classes\n",
    "real_confidence = prediction[0][0] * 100\n",
    "fake_confidence = (1 - prediction[0][0]) * 100\n",
    "\n",
    "# Display the image\n",
    "plt.imshow(img)\n",
    "plt.axis('off')  # Hide axes\n",
    "plt.show()\n",
    "\n",
    "# Print the results\n",
    "print(f\"The model predicts this image is 'real' with a confidence of {real_confidence:.2f}%.\")\n",
    "print(f\"The model predicts this image is 'fake' with a confidence of {fake_confidence:.2f}%.\")"
   ]
  },
  {
   "cell_type": "code",
   "execution_count": 16,
   "metadata": {
    "execution": {
     "iopub.execute_input": "2025-02-13T09:14:01.553982Z",
     "iopub.status.busy": "2025-02-13T09:14:01.553644Z",
     "iopub.status.idle": "2025-02-13T09:14:02.339883Z",
     "shell.execute_reply": "2025-02-13T09:14:02.339209Z",
     "shell.execute_reply.started": "2025-02-13T09:14:01.553945Z"
    },
    "trusted": true
   },
   "outputs": [
    {
     "name": "stdout",
     "output_type": "stream",
     "text": [
      "Downloading data from https://storage.googleapis.com/tensorflow/keras-applications/vgg16/vgg16_weights_tf_dim_ordering_tf_kernels_notop.h5\n",
      "\u001b[1m58889256/58889256\u001b[0m \u001b[32m━━━━━━━━━━━━━━━━━━━━\u001b[0m\u001b[37m\u001b[0m \u001b[1m0s\u001b[0m 0us/step\n"
     ]
    }
   ],
   "source": [
    "# Load VGG16 model with pre-trained weights, excluding the top classification layer\n",
    "base_model = VGG16(weights='imagenet', include_top=False, input_shape=(256, 256, 3))"
   ]
  },
  {
   "cell_type": "code",
   "execution_count": 17,
   "metadata": {
    "execution": {
     "iopub.execute_input": "2025-02-13T09:14:02.341272Z",
     "iopub.status.busy": "2025-02-13T09:14:02.340982Z",
     "iopub.status.idle": "2025-02-13T09:14:02.368215Z",
     "shell.execute_reply": "2025-02-13T09:14:02.367608Z",
     "shell.execute_reply.started": "2025-02-13T09:14:02.341246Z"
    },
    "trusted": true
   },
   "outputs": [],
   "source": [
    "# Add custom layers on top of VGG16\n",
    "x = base_model.output\n",
    "x = GlobalAveragePooling2D()(x)\n",
    "x = Dense(1024, activation='relu')(x)\n",
    "#x = Dropout(0.5)(x)\n",
    "predictions = Dense(1, activation='sigmoid')(x)\n",
    "\n",
    "# Create the model\n",
    "model = Model(inputs=base_model.input, outputs=predictions)\n",
    "\n",
    "for layer in base_model.layers[-3:]:  # Unfreeze the last 4 layers (customize this as needed)\n",
    "    layer.trainable = True\n",
    "\n",
    "# Recompile the model after making layers trainable\n",
    "model.compile(\n",
    "    optimizer=Adam(learning_rate=1e-5),  # You can reduce the learning rate further if needed\n",
    "    loss='binary_crossentropy',\n",
    "    metrics=['accuracy']\n",
    ")\n"
   ]
  },
  {
   "cell_type": "code",
   "execution_count": 1,
   "metadata": {
    "execution": {
     "iopub.execute_input": "2025-02-13T09:42:46.573993Z",
     "iopub.status.busy": "2025-02-13T09:42:46.573593Z",
     "iopub.status.idle": "2025-02-13T09:42:46.812467Z",
     "shell.execute_reply": "2025-02-13T09:42:46.811308Z",
     "shell.execute_reply.started": "2025-02-13T09:42:46.573946Z"
    },
    "trusted": true
   },
   "outputs": [
    {
     "ename": "NameError",
     "evalue": "name 'ReduceLROnPlateau' is not defined",
     "output_type": "error",
     "traceback": [
      "\u001b[0;31m---------------------------------------------------------------------------\u001b[0m",
      "\u001b[0;31mNameError\u001b[0m                                 Traceback (most recent call last)",
      "Cell \u001b[0;32mIn[1], line 4\u001b[0m\n\u001b[1;32m      1\u001b[0m \u001b[38;5;66;03m# Define callbacks\u001b[39;00m\n\u001b[1;32m      2\u001b[0m callbacks \u001b[38;5;241m=\u001b[39m [\n\u001b[1;32m      3\u001b[0m     \u001b[38;5;66;03m#ModelCheckpoint('vgg16_best_model.h5', monitor='val_accuracy', save_best_only=True, mode='max', verbose=1),\u001b[39;00m\n\u001b[0;32m----> 4\u001b[0m     \u001b[43mReduceLROnPlateau\u001b[49m(monitor\u001b[38;5;241m=\u001b[39m\u001b[38;5;124m'\u001b[39m\u001b[38;5;124mval_loss\u001b[39m\u001b[38;5;124m'\u001b[39m, factor\u001b[38;5;241m=\u001b[39m\u001b[38;5;241m0.2\u001b[39m, patience\u001b[38;5;241m=\u001b[39m\u001b[38;5;241m3\u001b[39m, verbose\u001b[38;5;241m=\u001b[39m\u001b[38;5;241m1\u001b[39m, min_lr\u001b[38;5;241m=\u001b[39m\u001b[38;5;241m1e-6\u001b[39m),\n\u001b[1;32m      5\u001b[0m     EarlyStopping(monitor\u001b[38;5;241m=\u001b[39m\u001b[38;5;124m'\u001b[39m\u001b[38;5;124mval_loss\u001b[39m\u001b[38;5;124m'\u001b[39m, patience\u001b[38;5;241m=\u001b[39m\u001b[38;5;241m5\u001b[39m, verbose\u001b[38;5;241m=\u001b[39m\u001b[38;5;241m1\u001b[39m, restore_best_weights\u001b[38;5;241m=\u001b[39m\u001b[38;5;28;01mTrue\u001b[39;00m)\n\u001b[1;32m      6\u001b[0m ]\n",
      "\u001b[0;31mNameError\u001b[0m: name 'ReduceLROnPlateau' is not defined"
     ]
    }
   ],
   "source": [
    "# Define callbacks\n",
    "callbacks = [\n",
    "    #ModelCheckpoint('vgg16_best_model.h5', monitor='val_accuracy', save_best_only=True, mode='max', verbose=1),\n",
    "    ReduceLROnPlateau(monitor='val_loss', factor=0.2, patience=3, verbose=1, min_lr=1e-6),\n",
    "    EarlyStopping(monitor='val_loss', patience=5, verbose=1, restore_best_weights=True)\n",
    "]"
   ]
  },
  {
   "cell_type": "code",
   "execution_count": 2,
   "metadata": {
    "execution": {
     "iopub.execute_input": "2025-02-13T09:42:54.058039Z",
     "iopub.status.busy": "2025-02-13T09:42:54.057434Z",
     "iopub.status.idle": "2025-02-13T09:42:54.076924Z",
     "shell.execute_reply": "2025-02-13T09:42:54.075672Z",
     "shell.execute_reply.started": "2025-02-13T09:42:54.058003Z"
    },
    "trusted": true
   },
   "outputs": [
    {
     "ename": "NameError",
     "evalue": "name 'model' is not defined",
     "output_type": "error",
     "traceback": [
      "\u001b[0;31m---------------------------------------------------------------------------\u001b[0m",
      "\u001b[0;31mNameError\u001b[0m                                 Traceback (most recent call last)",
      "Cell \u001b[0;32mIn[2], line 1\u001b[0m\n\u001b[0;32m----> 1\u001b[0m history \u001b[38;5;241m=\u001b[39m \u001b[43mmodel\u001b[49m\u001b[38;5;241m.\u001b[39mfit(\n\u001b[1;32m      2\u001b[0m     train_generator,\n\u001b[1;32m      3\u001b[0m     validation_data\u001b[38;5;241m=\u001b[39mval_generator,\n\u001b[1;32m      4\u001b[0m     epochs\u001b[38;5;241m=\u001b[39m\u001b[38;5;241m4\u001b[39m,\n\u001b[1;32m      5\u001b[0m     callbacks\u001b[38;5;241m=\u001b[39mcallbacks\n\u001b[1;32m      6\u001b[0m )\n",
      "\u001b[0;31mNameError\u001b[0m: name 'model' is not defined"
     ]
    }
   ],
   "source": [
    "history = model.fit(\n",
    "    train_generator,\n",
    "    validation_data=val_generator,\n",
    "    epochs=4,\n",
    "    callbacks=callbacks\n",
    ")"
   ]
  },
  {
   "cell_type": "code",
   "execution_count": null,
   "metadata": {
    "execution": {
     "execution_failed": "2025-02-13T09:33:25.743Z"
    },
    "trusted": true
   },
   "outputs": [],
   "source": [
    "test_metrics = model.evaluate(test_generator)\n",
    "print(\"Test metrics:\", test_metrics[1])"
   ]
  },
  {
   "cell_type": "code",
   "execution_count": null,
   "metadata": {
    "execution": {
     "execution_failed": "2025-02-13T09:33:25.743Z"
    },
    "trusted": true
   },
   "outputs": [],
   "source": [
    "import matplotlib.pyplot as plt\n",
    "# Plot training & validation accuracy values\n",
    "plt.figure(figsize=(12, 6))\n",
    "plt.plot(history.history['accuracy'], label='Training Accuracy')\n",
    "plt.plot(history.history['val_accuracy'], label='Validation Accuracy')\n",
    "plt.title('Model Accuracy')\n",
    "plt.xlabel('Epoch')\n",
    "plt.ylabel('Accuracy')\n",
    "plt.legend(loc='lower right')\n",
    "plt.grid(True)\n",
    "plt.show()"
   ]
  },
  {
   "cell_type": "code",
   "execution_count": null,
   "metadata": {
    "execution": {
     "execution_failed": "2025-02-13T09:33:25.744Z"
    },
    "trusted": true
   },
   "outputs": [],
   "source": [
    "# Plot training & validation loss values\n",
    "plt.figure(figsize=(12, 6))\n",
    "plt.plot(history.history['loss'], label='Training Loss')\n",
    "plt.plot(history.history['val_loss'], label='Validation Loss')\n",
    "plt.title('Model Loss')\n",
    "plt.xlabel('Epoch')\n",
    "plt.ylabel('Loss')\n",
    "plt.legend(loc='upper right')\n",
    "plt.grid(True)\n",
    "plt.show()"
   ]
  },
  {
   "cell_type": "code",
   "execution_count": null,
   "metadata": {
    "execution": {
     "execution_failed": "2025-02-13T09:33:25.744Z"
    },
    "trusted": true
   },
   "outputs": [],
   "source": [
    "# Generate predictions on the test set\n",
    "test_generator.reset()\n",
    "predictions = model.predict(test_generator, verbose=1)\n",
    "\n",
    "# The model output is the probability of the image being real\n",
    "# Convert probabilities to percentage\n",
    "predicted_percentages = predictions * 100\n",
    "\n",
    "# Convert to predicted classes with a threshold of 50%\n",
    "predicted_classes = np.where(predicted_percentages > 50, 1, 0)\n",
    "\n",
    "# Get true labels\n",
    "true_classes = test_generator.classes\n",
    "class_labels = list(test_generator.class_indices.keys())\n",
    "\n",
    "# Print the classification report\n",
    "print(classification_report(true_classes, predicted_classes, target_names=class_labels))"
   ]
  },
  {
   "cell_type": "code",
   "execution_count": null,
   "metadata": {
    "execution": {
     "execution_failed": "2025-02-13T09:33:25.745Z"
    },
    "trusted": true
   },
   "outputs": [],
   "source": [
    "# 3. Generate the confusion matrix\n",
    "cm = confusion_matrix(true_classes, predicted_classes)\n",
    "\n",
    "# 4. Plot the confusion matrix\n",
    "disp = ConfusionMatrixDisplay(confusion_matrix=cm, display_labels=test_generator.class_indices.keys())\n",
    "disp.plot(cmap=plt.cm.Blues)\n",
    "plt.title('Confusion Matrix')\n",
    "plt.show()"
   ]
  },
  {
   "cell_type": "code",
   "execution_count": null,
   "metadata": {
    "execution": {
     "execution_failed": "2025-02-13T09:33:25.745Z"
    },
    "trusted": true
   },
   "outputs": [],
   "source": [
    "import matplotlib.pyplot as plt\n",
    "from tensorflow.keras.preprocessing import image\n",
    "import numpy as np\n",
    "\n",
    "# Function to load and preprocess the image\n",
    "def load_and_preprocess_image(img_path, target_size):\n",
    "    # Load image\n",
    "    img = image.load_img(img_path, target_size=target_size)\n",
    "    \n",
    "    # Convert image to array\n",
    "    img_array = image.img_to_array(img)\n",
    "    \n",
    "    # Rescale the image\n",
    "    img_array = img_array / 255.0\n",
    "    \n",
    "    # Expand dimensions to match the input shape\n",
    "    img_array = np.expand_dims(img_array, axis=0)\n",
    "    \n",
    "    return img, img_array\n",
    "\n",
    "# Provide the path to your image\n",
    "img_path = '/kaggle/input/140k-real-and-fake-faces/real_vs_fake/real-vs-fake/test/real/00093.jpg'\n",
    "target_size = (256, 256)  # Make sure this matches your model's input size\n",
    "\n",
    "# Load and preprocess the image\n",
    "img, img_array = load_and_preprocess_image(img_path, target_size)\n",
    "\n",
    "# Make a prediction\n",
    "prediction = model.predict(img_array)\n",
    "\n",
    "# Get the percentage for both classes\n",
    "real_confidence = prediction[0][0] * 100\n",
    "fake_confidence = (1 - prediction[0][0]) * 100\n",
    "\n",
    "# Display the image\n",
    "plt.imshow(img)\n",
    "plt.axis('off')  # Hide axes\n",
    "plt.show()\n",
    "\n",
    "# Print the results\n",
    "print(f\"The model predicts this image is 'real' with a confidence of {real_confidence:.2f}%.\")\n",
    "print(f\"The model predicts this image is 'fake' with a confidence of {fake_confidence:.2f}%.\")"
   ]
  },
  {
   "cell_type": "code",
   "execution_count": null,
   "metadata": {
    "execution": {
     "execution_failed": "2025-02-13T09:33:25.745Z"
    },
    "trusted": true
   },
   "outputs": [],
   "source": [
    "\n",
    "import os\n",
    "\n",
    "# Check the current working directory\n",
    "print(os.getcwd())\n",
    "\n",
    "# Save the model\n",
    "model.save('Vgg16_model.h5')\n",
    "\n",
    "# List files in the current directory to confirm the save\n",
    "print(os.listdir())\n"
   ]
  },
  {
   "cell_type": "code",
   "execution_count": null,
   "metadata": {
    "execution": {
     "execution_failed": "2025-02-13T09:33:25.745Z"
    },
    "trusted": true
   },
   "outputs": [],
   "source": [
    "# Save only the weights\n",
    "model.save_weights('Vgg16_model.weights.h5')"
   ]
  },
  {
   "cell_type": "code",
   "execution_count": null,
   "metadata": {
    "trusted": true
   },
   "outputs": [],
   "source": []
  }
 ],
 "metadata": {
  "kaggle": {
   "accelerator": "gpu",
   "dataSources": [
    {
     "datasetId": 501529,
     "sourceId": 939937,
     "sourceType": "datasetVersion"
    },
    {
     "datasetId": 5754231,
     "sourceId": 9463933,
     "sourceType": "datasetVersion"
    }
   ],
   "dockerImageVersionId": 30762,
   "isGpuEnabled": true,
   "isInternetEnabled": true,
   "language": "python",
   "sourceType": "notebook"
  },
  "kernelspec": {
   "display_name": "Python 3",
   "language": "python",
   "name": "python3"
  },
  "language_info": {
   "codemirror_mode": {
    "name": "ipython",
    "version": 3
   },
   "file_extension": ".py",
   "mimetype": "text/x-python",
   "name": "python",
   "nbconvert_exporter": "python",
   "pygments_lexer": "ipython3",
   "version": "3.10.14"
  }
 },
 "nbformat": 4,
 "nbformat_minor": 4
}
